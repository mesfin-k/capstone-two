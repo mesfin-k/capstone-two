{
 "cells": [
  {
   "cell_type": "markdown",
   "id": "a0a5f5a5",
   "metadata": {},
   "source": [
    "\n",
    "# Sentinel Fraud Detection - EDA Notebook (Storytelling Driven)\n",
    "---\n",
    "## 🎯 Project Objective\n",
    "\n",
    "Sentinel National Bank is experiencing a rise in unauthorized transactions.\n",
    "\n",
    "**Goal**: Detect fraudulent transactions using advanced data analysis.\n",
    "\n",
    "**This EDA aims to**:\n",
    "- Explore the dataset  \n",
    "- Uncover patterns of fraudulent vs non-fraudulent behavior  \n",
    "- Engineer features that will help build an accurate fraud detection model  \n"
   ]
  },
  {
   "cell_type": "markdown",
   "id": "8ef83850",
   "metadata": {},
   "source": [
    "## 1️⃣ Import Libraries"
   ]
  },
  {
   "cell_type": "code",
   "execution_count": null,
   "id": "becee6b7",
   "metadata": {},
   "outputs": [],
   "source": [
    "\n",
    "import pandas as pd\n",
    "import numpy as np\n",
    "import matplotlib.pyplot as plt\n",
    "import seaborn as sns\n"
   ]
  },
  {
   "cell_type": "markdown",
   "id": "8b822aff",
   "metadata": {},
   "source": [
    "\n",
    "## 2️⃣ Load Cleaned Data\n",
    "\n",
    "**Purpose**: Load the cleaned dataset prepared during Data Wrangling  \n",
    "**Why**: This dataset will be used to explore patterns related to fraudulent vs non-fraudulent transactions  \n",
    "**Strategy**: First explore overall features, then dive into fraud-specific patterns.\n"
   ]
  },
  {
   "cell_type": "code",
   "execution_count": null,
   "id": "e3b2c3c2",
   "metadata": {},
   "outputs": [],
   "source": [
    "\n",
    "df = pd.read_csv(\"../data/sentinel_cleaned_sample_1000.csv\")\n"
   ]
  },
  {
   "cell_type": "markdown",
   "id": "bd1c6e64",
   "metadata": {},
   "source": [
    "## 3️⃣ Initial Inspection"
   ]
  }
 ],
 "metadata": {},
 "nbformat": 4,
 "nbformat_minor": 5
}
