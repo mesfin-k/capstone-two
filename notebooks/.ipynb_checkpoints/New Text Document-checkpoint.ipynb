{
 "cells": [
  {
   "cell_type": "markdown",
   "metadata": {},
   "source": [
    "# Revised Capstone Modeling - Fraud Detection"
   ]
  },
  {
   "cell_type": "code",
   "execution_count": null,
   "metadata": {},
   "outputs": [],
   "source": [
    "# Import libraries\n",
    "import pandas as pd\n",
    "import numpy as np\n",
    "import matplotlib.pyplot as plt\n",
    "from sklearn.linear_model import LogisticRegression\n",
    "from sklearn.ensemble import RandomForestClassifier\n",
    "from sklearn.metrics import classification_report, confusion_matrix, recall_score, f1_score, roc_auc_score\n",
    "from sklearn.model_selection import cross_val_score, GridSearchCV, StratifiedKFold\n",
    "from sklearn.preprocessing import StandardScaler, LabelEncoder\n",
    "from imblearn.over_sampling import SMOTE\n",
    "import joblib\n",
    "from xgboost import XGBClassifier\n",
    "\n",
    "# Load data (use provided splits for consistency)\n",
    "X_train = pd.read_csv('X_train.csv')\n",
    "X_test = pd.read_csv('X_test.csv')\n",
    "y_train = pd.read_csv('y_train.csv')\n",
    "y_test = pd.read_csv('y_test.csv')"
   ]
  },
  {
   "cell_type": "code",
   "execution_count": null,
   "metadata": {},
   "outputs": [],
   "source": [
    "# Non-leaky features\n",
    "features = ['step', 'type', 'amount', 'oldbalanceOrg', 'newbalanceOrig', 'oldbalanceDest', 'newbalanceDest']\n",
    "\n",
    "# Log transform\n",
    "for col in ['amount', 'oldbalanceOrg', 'newbalanceOrig', 'oldbalanceDest', 'newbalanceDest']:\n",
    "    df[col] = np.log1p(df[col])\n",
    "\n",
    "# Encode 'type'\n",
    "le = LabelEncoder()\n",
    "df['type'] = le.fit_transform(df['type'])\n",
    "\n",
    "# Time-based split\n",
    "df = df.sort_values('step')\n",
    "split_idx = int(0.8 * len(df))\n",
    "X_train = df[features].iloc[:split_idx]\n",
    "X_test = df[features].iloc[split_idx:]\n",
    "y_train = df['isFraud'].iloc[:split_idx]\n",
    "y_test = df['isFraud'].iloc[split_idx:]\n",
    "\n",
    "# Scale\n",
    "scaler = StandardScaler()\n",
    "X_train_scaled = scaler.fit_transform(X_train)\n",
    "X_test_scaled = scaler.transform(X_test)\n",
    "\n",
    "# SMOTE\n",
    "smote = SMOTE(random_state=42)\n",
    "X_train_smote, y_train_smote = smote.fit_resample(X_train_scaled, y_train)"
   ]
  },
  {
   "cell_type": "code",
   "execution_count": null,
   "metadata": {},
   "outputs": [],
   "source": [
    "# CV setup\n",
    "cv = StratifiedKFold(n_splits=5, shuffle=True, random_state=42)\n",
    "\n",
    "# Logistic Regression\n",
    "logreg = LogisticRegression(random_state=42, max_iter=1000, class_weight='balanced')\n",
    "param_grid_log = {'C': [0.1, 1, 10], 'solver': ['liblinear']}\n",
    "grid_log = GridSearchCV(logreg, param_grid_log, cv=cv, scoring='recall')\n",
    "grid_log.fit(X_train_smote, y_train_smote)\n",
    "best_log = grid_log.best_estimator_\n",
    "y_pred_log = best_log.predict(X_test_scaled)\n",
    "print(\"\\nLogistic Regression:\\n\", classification_report(y_test, y_pred_log))\n",
    "cv_scores_log = cross_val_score(best_log, X_train_smote, y_train_smote, cv=cv, scoring='recall')\n",
    "print(\"Mean CV Recall (LogReg):\", np.mean(cv_scores_log))"
   ]
  },
  {
   "cell_type": "code",
   "execution_count": null,
   "metadata": {},
   "outputs": [],
   "source": [
    "# Random Forest\n",
    "rf = RandomForestClassifier(random_state=42)\n",
    "param_grid_rf = {'n_estimators': [50, 100], 'max_depth': [10, 20], 'class_weight': ['balanced']}\n",
    "grid_rf = GridSearchCV(rf, param_grid_rf, cv=cv, scoring='recall')\n",
    "grid_rf.fit(X_train_smote, y_train_smote)\n",
    "best_rf = grid_rf.best_estimator_\n",
    "y_pred_rf = best_rf.predict(X_test_scaled)\n",
    "print(\"\\nRandom Forest:\\n\", classification_report(y_test, y_pred_rf))\n",
    "cv_scores_rf = cross_val_score(best_rf, X_train_smote, y_train_smote, cv=cv, scoring='recall')\n",
    "print(\"Mean CV Recall (RF):\", np.mean(cv_scores_rf))"
   ]
  },
  {
   "cell_type": "code",
   "execution_count": null,
   "metadata": {},
   "outputs": [],
   "source": [
    "# XGBoost\n",
    "xgb = XGBClassifier(random_state=42, eval_metric='logloss')\n",
    "param_grid_xgb = {'n_estimators': [50, 100], 'max_depth': [3, 5], 'learning_rate': [0.01, 0.1], 'scale_pos_weight': [len(y_train[y_train==0]) / len(y_train[y_train==1])] }\n",
    "grid_xgb = GridSearchCV(xgb, param_grid_xgb, cv=cv, scoring='recall')\n",
    "grid_xgb.fit(X_train_smote, y_train_smote)\n",
    "best_xgb = grid_xgb.best_estimator_\n",
    "y_pred_xgb = best_xgb.predict(X_test_scaled)\n",
    "print(\"\\nXGBoost:\\n\", classification_report(y_test, y_pred_xgb))\n",
    "cv_scores_xgb = cross_val_score(best_xgb, X_train_smote, y_train_smote, cv=cv, scoring='recall')\n",
    "print(\"Mean CV Recall (XGBoost):\", np.mean(cv_scores_xgb))"
   ]
  },
  {
   "cell_type": "code",
   "execution_count": null,
   "metadata": {},
   "outputs": [],
   "source": [
    "# Threshold tuning if recall < 0.85\n",
    "y_prob_xgb = best_xgb.predict_proba(X_test_scaled)[:, 1]\n",
    "if recall_score(y_test, y_pred_xgb) < 0.85:\n",
    "    thresholds = np.arange(0.2, 0.8, 0.05)\n",
    "    best_threshold = 0.5\n",
    "    best_recall = 0\n",
    "    for thresh in thresholds:\n",
    "        y_pred_thresh = (y_prob_xgb >= thresh).astype(int)\n",
    "        rec = recall_score(y_test, y_pred_thresh)\n",
    "        if rec > best_recall:\n",
    "            best_recall = rec\n",
    "            best_threshold = thresh\n",
    "    y_pred_xgb = (y_prob_xgb >= best_threshold).astype(int)\n",
    "    print(f\"\\nOptimized Threshold: {best_threshold}, Recall: {best_recall}\")\n",
    "    print(classification_report(y_test, y_pred_xgb))"
   ]
  },
  {
   "cell_type": "code",
   "execution_count": null,
   "metadata": {},
   "outputs": [],
   "source": [
    "# Holdout validation\n",
    "holdout_size = int(0.1 * len(X_test))\n",
    "X_holdout = X_test.iloc[-holdout_size:]\n",
    "y_holdout = y_test.iloc[-holdout_size:]\n",
    "X_holdout_scaled = scaler.transform(X_holdout)\n",
    "y_pred_holdout = best_xgb.predict(X_holdout_scaled)\n",
    "print(\"\\nHoldout Evaluation (XGBoost):\\n\", classification_report(y_holdout, y_pred_holdout))"
   ]
  },
  {
   "cell_type": "code",
   "execution_count": null,
   "metadata": {},
   "outputs": [],
   "source": [
    "# Feature Importances\n",
    "importances = best_xgb.feature_importances_\n",
    "indices = np.argsort(importances)[::-1]\n",
    "plt.bar(range(len(importances)), importances[indices])\n",
    "plt.xticks(range(len(importances)), np.array(features)[indices], rotation=90)\n",
    "plt.title(\"XGBoost Feature Importances\")\n",
    "plt.show()"
   ]
  },
  {
   "cell_type": "code",
   "execution_count": null,
   "metadata": {},
   "outputs": [],
   "source": [
    "# Model Comparison\n",
    "metrics = {\n",
    "    \"Logistic\": {\"Recall\": recall_score(y_test, y_pred_log), \"F1\": f1_score(y_test, y_pred_log), \"ROC-AUC\": roc_auc_score(y_test, y_prob_log)},\n",
    "    \"RF\": {\"Recall\": recall_score(y_test, y_pred_rf), \"F1\": f1_score(y_test, y_pred_rf), \"ROC-AUC\": roc_auc_score(y_test, y_prob_rf)},\n",
    "    \"XGBoost\": {\"Recall\": recall_score(y_test, y_pred_xgb), \"F1\": f1_score(y_test, y_pred_xgb), \"ROC-AUC\": roc_auc_score(y_test, y_prob_xgb)}\n",
    "}\n",
    "print(pd.DataFrame(metrics).T.sort_values(by='Recall', ascending=False))\n",
    "\n",
    "# Save best model\n",
    "joblib.dump(best_xgb, 'fraud_model_revised.pkl')"
   ]
  }
 ],
 "metadata": {
  "kernelspec": {
   "display_name": "Python 3",
   "language": "python",
   "name": "python3"
  },
  "language_info": {
   "codemirror_mode": {
    "name": "ipython",
    "version": 3
   },
   "file_extension": ".py",
   "mimetype": "text/x-python",
   "name": "python",
   "nbconvert_exporter": "python",
   "pygments_lexer": "ipython3",
   "version": "3.12.3"
  }
 },
 "nbformat": 4,
 "nbformat_minor": 5
}