{
 "cells": [
  {
   "cell_type": "markdown",
   "id": "0369120f",
   "metadata": {},
   "source": [
    "\n",
    "# Sentinel Fraud Detection - Feature Engineering Notebook\n",
    "\n",
    "---\n",
    "\n",
    "## 🎯 Objective\n",
    "\n",
    "Engineer new features to enhance the predictive power of our fraud detection model.\n"
   ]
  },
  {
   "cell_type": "markdown",
   "id": "79201a26",
   "metadata": {},
   "source": [
    "## 1️⃣ Import Libraries"
   ]
  },
  {
   "cell_type": "code",
   "execution_count": null,
   "id": "28939fee",
   "metadata": {},
   "outputs": [],
   "source": [
    "\n",
    "import pandas as pd\n",
    "import numpy as np\n"
   ]
  },
  {
   "cell_type": "markdown",
   "id": "76acef7d",
   "metadata": {},
   "source": [
    "## 2️⃣ Load Cleaned Data"
   ]
  },
  {
   "cell_type": "code",
   "execution_count": null,
   "id": "41835df7",
   "metadata": {},
   "outputs": [],
   "source": [
    "\n",
    "df = pd.read_csv(\"../data/sentinel_cleaned_sample_1000.csv\")\n",
    "df.info()\n"
   ]
  },
  {
   "cell_type": "markdown",
   "id": "486874e0",
   "metadata": {},
   "source": [
    "## 3️⃣ Feature Engineering"
   ]
  },
  {
   "cell_type": "code",
   "execution_count": null,
   "id": "3b0ee804",
   "metadata": {},
   "outputs": [],
   "source": [
    "\n",
    "# Example: Create transaction_ratio feature\n",
    "df['transaction_ratio'] = df['amount'] / (df['oldbalanceOrg'] + 1)\n",
    "\n",
    "# Example: Flag for zero balance after transaction\n",
    "df['is_zero_balance'] = (df['newbalanceOrig'] == 0).astype(int)\n",
    "\n",
    "# Example: Large transaction flag (tune threshold)\n",
    "df['is_large_transfer'] = (df['amount'] > 200000).astype(int)\n",
    "\n",
    "# Display sample\n",
    "df.head()\n"
   ]
  },
  {
   "cell_type": "markdown",
   "id": "14c3d49c",
   "metadata": {},
   "source": [
    "## 4️⃣ Save Engineered Data"
   ]
  },
  {
   "cell_type": "code",
   "execution_count": null,
   "id": "e2b00584",
   "metadata": {},
   "outputs": [],
   "source": [
    "\n",
    "df.to_csv(\"../data/sentinel_feature_engineered.csv\", index=False)\n",
    "print(\"Feature-engineered dataset saved!\")\n"
   ]
  },
  {
   "cell_type": "markdown",
   "id": "51891363",
   "metadata": {},
   "source": [
    "\n",
    "## ✅ Summary and Next Steps\n",
    "\n",
    "- New features created and saved  \n",
    "- Ready for **Modeling** 🚀\n"
   ]
  }
 ],
 "metadata": {},
 "nbformat": 4,
 "nbformat_minor": 5
}
