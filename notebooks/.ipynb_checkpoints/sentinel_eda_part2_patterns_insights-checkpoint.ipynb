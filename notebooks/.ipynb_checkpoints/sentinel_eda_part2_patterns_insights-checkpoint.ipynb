{
 "cells": [
  {
   "cell_type": "code",
   "execution_count": null,
   "id": "98b027cb",
   "metadata": {},
   "outputs": [],
   "source": [
    "\n",
    "print(\"\\nDataset Info:\")\n",
    "df.info()\n",
    "\n",
    "print(\"\\nSummary Statistics:\")\n",
    "display(df.describe())\n",
    "\n",
    "print(\"\\nFraud Distribution (%):\")\n",
    "print(df['isFraud'].value_counts(normalize=True) * 100)\n"
   ]
  },
  {
   "cell_type": "markdown",
   "id": "910a7d2d",
   "metadata": {},
   "source": [
    "## 4️⃣ Confirm Missing Values"
   ]
  },
  {
   "cell_type": "code",
   "execution_count": null,
   "id": "642ec9f4",
   "metadata": {},
   "outputs": [],
   "source": [
    "\n",
    "print(\"Missing values per column:\")\n",
    "print(df.isnull().sum())\n",
    "\n",
    "plt.figure(figsize=(10,6))\n",
    "sns.heatmap(df.isnull(), cbar=False, cmap='viridis')\n",
    "plt.title(\"Missing Values Heatmap\")\n",
    "plt.show()\n"
   ]
  },
  {
   "cell_type": "markdown",
   "id": "c6ef3edc",
   "metadata": {},
   "source": [
    "## 5️⃣ Confirm Duplicates"
   ]
  },
  {
   "cell_type": "code",
   "execution_count": null,
   "id": "34da6b8a",
   "metadata": {},
   "outputs": [],
   "source": [
    "\n",
    "num_duplicates = df.duplicated().sum()\n",
    "print(f\"\\nNumber of duplicate rows: {num_duplicates}\")\n"
   ]
  },
  {
   "cell_type": "markdown",
   "id": "95a42b52",
   "metadata": {},
   "source": [
    "## 6️⃣ Univariate Analysis (Feature Distributions)"
   ]
  },
  {
   "cell_type": "code",
   "execution_count": null,
   "id": "9ccd59fc",
   "metadata": {},
   "outputs": [],
   "source": [
    "\n",
    "# Histograms for numeric columns\n",
    "df.hist(figsize=(15,12), bins=30)\n",
    "plt.tight_layout()\n",
    "plt.show()\n"
   ]
  }
 ],
 "metadata": {},
 "nbformat": 4,
 "nbformat_minor": 5
}
