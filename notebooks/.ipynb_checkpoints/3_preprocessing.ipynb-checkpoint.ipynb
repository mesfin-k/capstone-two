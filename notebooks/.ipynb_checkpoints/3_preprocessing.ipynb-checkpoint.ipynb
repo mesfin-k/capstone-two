{
 "cells": [
  {
   "cell_type": "code",
   "execution_count": 159,
   "id": "02b8dd1d-870e-47b9-99ca-a80924509d61",
   "metadata": {},
   "outputs": [],
   "source": [
    "# 📊 Data Manipulation\n",
    "import pandas as pd\n",
    "import numpy as np\n",
    "\n",
    "# 🧼 Preprocessing\n",
    "from sklearn.preprocessing import StandardScaler, MinMaxScaler, OneHotEncoder, LabelEncoder\n",
    "from sklearn.model_selection import train_test_split\n",
    "from sklearn.impute import SimpleImputer\n",
    "\n",
    "# 🧠 Machine Learning Models\n",
    "from sklearn.linear_model import LogisticRegression\n",
    "from sklearn.tree import DecisionTreeClassifier\n",
    "from sklearn.ensemble import RandomForestClassifier, GradientBoostingClassifier\n",
    "from sklearn.svm import SVC\n",
    "# from xgboost import XGBClassifier\n",
    "\n",
    "# 📈 Model Evaluation\n",
    "from sklearn.metrics import accuracy_score, precision_score, recall_score, f1_score, confusion_matrix, classification_report, roc_auc_score, roc_curve\n",
    "\n",
    "# 📉 Dimensionality Reduction (if needed)\n",
    "from sklearn.decomposition import PCA\n",
    "\n",
    "# 📊 Visualization\n",
    "import matplotlib.pyplot as plt\n",
    "import seaborn as sns\n",
    "import plotly.express as px\n",
    "\n",
    "# ⚠️ Warnings\n",
    "import warnings\n",
    "warnings.filterwarnings('ignore')\n"
   ]
  },
  {
   "cell_type": "code",
   "execution_count": 160,
   "id": "c3900e9c-3245-4642-89a4-78fe386cb883",
   "metadata": {},
   "outputs": [],
   "source": [
    "df = pd.read_csv(\"sentinel_features_for_modeling.csv\")"
   ]
  },
  {
   "cell_type": "code",
   "execution_count": 161,
   "id": "772e0004-379d-45e1-967e-d7a58e1050f9",
   "metadata": {},
   "outputs": [
    {
     "data": {
      "text/html": [
       "<div>\n",
       "<style scoped>\n",
       "    .dataframe tbody tr th:only-of-type {\n",
       "        vertical-align: middle;\n",
       "    }\n",
       "\n",
       "    .dataframe tbody tr th {\n",
       "        vertical-align: top;\n",
       "    }\n",
       "\n",
       "    .dataframe thead th {\n",
       "        text-align: right;\n",
       "    }\n",
       "</style>\n",
       "<table border=\"1\" class=\"dataframe\">\n",
       "  <thead>\n",
       "    <tr style=\"text-align: right;\">\n",
       "      <th></th>\n",
       "      <th>step</th>\n",
       "      <th>type</th>\n",
       "      <th>amount</th>\n",
       "      <th>nameOrig</th>\n",
       "      <th>oldbalanceOrg</th>\n",
       "      <th>newbalanceOrig</th>\n",
       "      <th>nameDest</th>\n",
       "      <th>oldbalanceDest</th>\n",
       "      <th>newbalanceDest</th>\n",
       "      <th>isFraud</th>\n",
       "      <th>balance_shift_diff</th>\n",
       "      <th>balanced</th>\n",
       "      <th>log_amount</th>\n",
       "      <th>log_oldbalanceOrg</th>\n",
       "      <th>log_oldbalanceDest</th>\n",
       "      <th>log_newbalanceOrig</th>\n",
       "      <th>log_newbalanceDest</th>\n",
       "    </tr>\n",
       "  </thead>\n",
       "  <tbody>\n",
       "    <tr>\n",
       "      <th>0</th>\n",
       "      <td>19</td>\n",
       "      <td>CASH_OUT</td>\n",
       "      <td>156435.77</td>\n",
       "      <td>C1306155018</td>\n",
       "      <td>0.0</td>\n",
       "      <td>0.0</td>\n",
       "      <td>C10389336</td>\n",
       "      <td>350075.23</td>\n",
       "      <td>329337.60</td>\n",
       "      <td>0</td>\n",
       "      <td>20737.63</td>\n",
       "      <td>False</td>\n",
       "      <td>11.960407</td>\n",
       "      <td>0.000000</td>\n",
       "      <td>12.765906</td>\n",
       "      <td>0.0</td>\n",
       "      <td>12.704842</td>\n",
       "    </tr>\n",
       "    <tr>\n",
       "      <th>1</th>\n",
       "      <td>9</td>\n",
       "      <td>CASH_OUT</td>\n",
       "      <td>159022.13</td>\n",
       "      <td>C1970395543</td>\n",
       "      <td>100332.0</td>\n",
       "      <td>0.0</td>\n",
       "      <td>C1875625456</td>\n",
       "      <td>0.00</td>\n",
       "      <td>159022.13</td>\n",
       "      <td>0</td>\n",
       "      <td>-58690.13</td>\n",
       "      <td>False</td>\n",
       "      <td>11.976805</td>\n",
       "      <td>11.516250</td>\n",
       "      <td>0.000000</td>\n",
       "      <td>0.0</td>\n",
       "      <td>11.976805</td>\n",
       "    </tr>\n",
       "    <tr>\n",
       "      <th>2</th>\n",
       "      <td>35</td>\n",
       "      <td>CASH_OUT</td>\n",
       "      <td>281322.81</td>\n",
       "      <td>C870758580</td>\n",
       "      <td>11308.0</td>\n",
       "      <td>0.0</td>\n",
       "      <td>C1388202553</td>\n",
       "      <td>107819.35</td>\n",
       "      <td>389142.16</td>\n",
       "      <td>0</td>\n",
       "      <td>-270014.81</td>\n",
       "      <td>False</td>\n",
       "      <td>12.547262</td>\n",
       "      <td>9.333354</td>\n",
       "      <td>11.588222</td>\n",
       "      <td>0.0</td>\n",
       "      <td>12.871703</td>\n",
       "    </tr>\n",
       "    <tr>\n",
       "      <th>3</th>\n",
       "      <td>38</td>\n",
       "      <td>CASH_OUT</td>\n",
       "      <td>63142.96</td>\n",
       "      <td>C2094408841</td>\n",
       "      <td>0.0</td>\n",
       "      <td>0.0</td>\n",
       "      <td>C221397311</td>\n",
       "      <td>73531.14</td>\n",
       "      <td>136674.10</td>\n",
       "      <td>0</td>\n",
       "      <td>-63142.96</td>\n",
       "      <td>False</td>\n",
       "      <td>11.053172</td>\n",
       "      <td>0.000000</td>\n",
       "      <td>11.205478</td>\n",
       "      <td>0.0</td>\n",
       "      <td>11.825362</td>\n",
       "    </tr>\n",
       "    <tr>\n",
       "      <th>4</th>\n",
       "      <td>41</td>\n",
       "      <td>CASH_OUT</td>\n",
       "      <td>370542.50</td>\n",
       "      <td>C730868144</td>\n",
       "      <td>10054.0</td>\n",
       "      <td>0.0</td>\n",
       "      <td>C849704466</td>\n",
       "      <td>281294.97</td>\n",
       "      <td>651837.47</td>\n",
       "      <td>0</td>\n",
       "      <td>-360488.50</td>\n",
       "      <td>False</td>\n",
       "      <td>12.822726</td>\n",
       "      <td>9.215825</td>\n",
       "      <td>12.547163</td>\n",
       "      <td>0.0</td>\n",
       "      <td>13.387552</td>\n",
       "    </tr>\n",
       "  </tbody>\n",
       "</table>\n",
       "</div>"
      ],
      "text/plain": [
       "   step      type     amount     nameOrig  oldbalanceOrg  newbalanceOrig  \\\n",
       "0    19  CASH_OUT  156435.77  C1306155018            0.0             0.0   \n",
       "1     9  CASH_OUT  159022.13  C1970395543       100332.0             0.0   \n",
       "2    35  CASH_OUT  281322.81   C870758580        11308.0             0.0   \n",
       "3    38  CASH_OUT   63142.96  C2094408841            0.0             0.0   \n",
       "4    41  CASH_OUT  370542.50   C730868144        10054.0             0.0   \n",
       "\n",
       "      nameDest  oldbalanceDest  newbalanceDest  isFraud  balance_shift_diff  \\\n",
       "0    C10389336       350075.23       329337.60        0            20737.63   \n",
       "1  C1875625456            0.00       159022.13        0           -58690.13   \n",
       "2  C1388202553       107819.35       389142.16        0          -270014.81   \n",
       "3   C221397311        73531.14       136674.10        0           -63142.96   \n",
       "4   C849704466       281294.97       651837.47        0          -360488.50   \n",
       "\n",
       "   balanced  log_amount  log_oldbalanceOrg  log_oldbalanceDest  \\\n",
       "0     False   11.960407           0.000000           12.765906   \n",
       "1     False   11.976805          11.516250            0.000000   \n",
       "2     False   12.547262           9.333354           11.588222   \n",
       "3     False   11.053172           0.000000           11.205478   \n",
       "4     False   12.822726           9.215825           12.547163   \n",
       "\n",
       "   log_newbalanceOrig  log_newbalanceDest  \n",
       "0                 0.0           12.704842  \n",
       "1                 0.0           11.976805  \n",
       "2                 0.0           12.871703  \n",
       "3                 0.0           11.825362  \n",
       "4                 0.0           13.387552  "
      ]
     },
     "execution_count": 161,
     "metadata": {},
     "output_type": "execute_result"
    }
   ],
   "source": [
    "df.head()"
   ]
  },
  {
   "cell_type": "code",
   "execution_count": 162,
   "id": "8a44b464-de33-45e7-94b3-1ce10f387f40",
   "metadata": {},
   "outputs": [
    {
     "data": {
      "text/plain": [
       "Index(['type', 'nameOrig', 'nameDest'], dtype='object')"
      ]
     },
     "execution_count": 162,
     "metadata": {},
     "output_type": "execute_result"
    }
   ],
   "source": [
    "df.select_dtypes(include='object').columns"
   ]
  },
  {
   "cell_type": "code",
   "execution_count": 163,
   "id": "aef19f99-5d0f-43cd-9f1b-0e9e837e4006",
   "metadata": {},
   "outputs": [],
   "source": [
    "df = df.drop(['nameOrig', 'nameDest'], axis=1)\n",
    "\n",
    "df = pd.get_dummies(df, columns=['type'], drop_first=True)"
   ]
  },
  {
   "cell_type": "code",
   "execution_count": 164,
   "id": "e279b7a5-9885-46fe-8774-8625b63bd516",
   "metadata": {},
   "outputs": [],
   "source": [
    "df['balanced'] = df['balanced'].astype(int)\n"
   ]
  },
  {
   "cell_type": "code",
   "execution_count": 165,
   "id": "a909f612-806c-49cd-a376-93d1a5298371",
   "metadata": {},
   "outputs": [],
   "source": [
    "# Drop raw versions from df\n",
    "df = df.drop([\n",
    "    'amount',\n",
    "    'oldbalanceOrg',\n",
    "    'newbalanceOrig',\n",
    "    'oldbalanceDest',\n",
    "    'newbalanceDest'\n",
    "], axis=1)\n",
    "\n",
    "# Then separate features and target\n",
    "X = df.drop(\"isFraud\", axis=1)\n",
    "y = df[\"isFraud\"]\n",
    "\n"
   ]
  },
  {
   "cell_type": "code",
   "execution_count": 166,
   "id": "19b60e44-9870-488f-b37c-f3d9212c5fba",
   "metadata": {},
   "outputs": [],
   "source": [
    "X = df.drop(\"isFraud\", axis=1)\n",
    "y = df[\"isFraud\"]\n"
   ]
  },
  {
   "cell_type": "code",
   "execution_count": 167,
   "id": "d9cf6fe6-6eea-4e97-a45b-d3939d946ce3",
   "metadata": {},
   "outputs": [],
   "source": [
    "scaler = StandardScaler()\n",
    "X_scaled = scaler.fit_transform(X)\n",
    "X_scaled = pd.DataFrame(X_scaled, columns=X.columns)"
   ]
  },
  {
   "cell_type": "code",
   "execution_count": 168,
   "id": "96ad40dc-da95-49da-9c27-f6051e4da519",
   "metadata": {},
   "outputs": [],
   "source": [
    "\n",
    "X_train, X_test, y_train, y_test = train_test_split(\n",
    "    X_scaled, y, test_size=0.2, random_state=42, stratify=y\n",
    ")"
   ]
  },
  {
   "cell_type": "code",
   "execution_count": 169,
   "id": "2148db07-1774-4562-975f-5f0c2bf3197e",
   "metadata": {},
   "outputs": [],
   "source": [
    "X_train.to_csv(\"X_train.csv\", index=False)\n",
    "X_test.to_csv(\"X_test.csv\", index=False)\n",
    "y_train.to_csv(\"y_train.csv\", index=False)\n",
    "y_test.to_csv(\"y_test.csv\", index=False)"
   ]
  },
  {
   "cell_type": "code",
   "execution_count": 170,
   "id": "b1c8f178-3c39-467a-8360-4e43c93751e1",
   "metadata": {},
   "outputs": [
    {
     "name": "stdout",
     "output_type": "stream",
     "text": [
      "X shape: (1000, 9)\n",
      "y distribution:\n",
      " isFraud\n",
      "0    0.9\n",
      "1    0.1\n",
      "Name: proportion, dtype: float64\n"
     ]
    }
   ],
   "source": [
    "print(\"X shape:\", X_scaled.shape)\n",
    "print(\"y distribution:\\n\", y.value_counts(normalize=True))"
   ]
  },
  {
   "cell_type": "code",
   "execution_count": 173,
   "id": "4abd03bf-2574-4c96-b20a-c9a2f98c0c91",
   "metadata": {},
   "outputs": [
    {
     "data": {
      "text/html": [
       "<div>\n",
       "<style scoped>\n",
       "    .dataframe tbody tr th:only-of-type {\n",
       "        vertical-align: middle;\n",
       "    }\n",
       "\n",
       "    .dataframe tbody tr th {\n",
       "        vertical-align: top;\n",
       "    }\n",
       "\n",
       "    .dataframe thead th {\n",
       "        text-align: right;\n",
       "    }\n",
       "</style>\n",
       "<table border=\"1\" class=\"dataframe\">\n",
       "  <thead>\n",
       "    <tr style=\"text-align: right;\">\n",
       "      <th></th>\n",
       "      <th>step</th>\n",
       "      <th>balance_shift_diff</th>\n",
       "      <th>balanced</th>\n",
       "      <th>log_amount</th>\n",
       "      <th>log_oldbalanceOrg</th>\n",
       "      <th>log_oldbalanceDest</th>\n",
       "      <th>log_newbalanceOrig</th>\n",
       "      <th>log_newbalanceDest</th>\n",
       "      <th>type_TRANSFER</th>\n",
       "    </tr>\n",
       "  </thead>\n",
       "  <tbody>\n",
       "    <tr>\n",
       "      <th>0</th>\n",
       "      <td>-0.549320</td>\n",
       "      <td>0.336710</td>\n",
       "      <td>-0.337025</td>\n",
       "      <td>-0.035886</td>\n",
       "      <td>-1.073048</td>\n",
       "      <td>0.359267</td>\n",
       "      <td>-0.311789</td>\n",
       "      <td>-0.023994</td>\n",
       "      <td>-0.52644</td>\n",
       "    </tr>\n",
       "    <tr>\n",
       "      <th>1</th>\n",
       "      <td>-1.093793</td>\n",
       "      <td>0.222469</td>\n",
       "      <td>-0.337025</td>\n",
       "      <td>-0.022580</td>\n",
       "      <td>1.023838</td>\n",
       "      <td>-2.065589</td>\n",
       "      <td>-0.311789</td>\n",
       "      <td>-0.233701</td>\n",
       "      <td>-0.52644</td>\n",
       "    </tr>\n",
       "    <tr>\n",
       "      <th>2</th>\n",
       "      <td>0.321838</td>\n",
       "      <td>-0.081480</td>\n",
       "      <td>-0.337025</td>\n",
       "      <td>0.440331</td>\n",
       "      <td>0.626375</td>\n",
       "      <td>0.135569</td>\n",
       "      <td>-0.311789</td>\n",
       "      <td>0.024069</td>\n",
       "      <td>-0.52644</td>\n",
       "    </tr>\n",
       "    <tr>\n",
       "      <th>3</th>\n",
       "      <td>0.485181</td>\n",
       "      <td>0.216064</td>\n",
       "      <td>-0.337025</td>\n",
       "      <td>-0.772085</td>\n",
       "      <td>-1.073048</td>\n",
       "      <td>0.062867</td>\n",
       "      <td>-0.311789</td>\n",
       "      <td>-0.277323</td>\n",
       "      <td>-0.52644</td>\n",
       "    </tr>\n",
       "    <tr>\n",
       "      <th>4</th>\n",
       "      <td>0.648523</td>\n",
       "      <td>-0.211609</td>\n",
       "      <td>-0.337025</td>\n",
       "      <td>0.663864</td>\n",
       "      <td>0.604975</td>\n",
       "      <td>0.317717</td>\n",
       "      <td>-0.311789</td>\n",
       "      <td>0.172656</td>\n",
       "      <td>-0.52644</td>\n",
       "    </tr>\n",
       "  </tbody>\n",
       "</table>\n",
       "</div>"
      ],
      "text/plain": [
       "       step  balance_shift_diff  balanced  log_amount  log_oldbalanceOrg  \\\n",
       "0 -0.549320            0.336710 -0.337025   -0.035886          -1.073048   \n",
       "1 -1.093793            0.222469 -0.337025   -0.022580           1.023838   \n",
       "2  0.321838           -0.081480 -0.337025    0.440331           0.626375   \n",
       "3  0.485181            0.216064 -0.337025   -0.772085          -1.073048   \n",
       "4  0.648523           -0.211609 -0.337025    0.663864           0.604975   \n",
       "\n",
       "   log_oldbalanceDest  log_newbalanceOrig  log_newbalanceDest  type_TRANSFER  \n",
       "0            0.359267           -0.311789           -0.023994       -0.52644  \n",
       "1           -2.065589           -0.311789           -0.233701       -0.52644  \n",
       "2            0.135569           -0.311789            0.024069       -0.52644  \n",
       "3            0.062867           -0.311789           -0.277323       -0.52644  \n",
       "4            0.317717           -0.311789            0.172656       -0.52644  "
      ]
     },
     "execution_count": 173,
     "metadata": {},
     "output_type": "execute_result"
    }
   ],
   "source": [
    "X_scaled.head()"
   ]
  },
  {
   "cell_type": "code",
   "execution_count": 174,
   "id": "768bca2d-6ca8-47b7-bb17-cd1d4c4a4cf8",
   "metadata": {},
   "outputs": [
    {
     "name": "stdout",
     "output_type": "stream",
     "text": [
      "🔍 Class distribution in full dataset (y):\n",
      "isFraud\n",
      "0    900\n",
      "1    100\n",
      "Name: count, dtype: int64\n",
      "\n",
      "Class balance (percentages):\n",
      "isFraud\n",
      "0    90.00%\n",
      "1    10.00%\n",
      "Name: proportion, dtype: object\n"
     ]
    },
    {
     "data": {
      "image/png": "[encoded data removed]",
      "text/plain": [
       "<Figure size 600x400 with 1 Axes>"
      ]
     },
     "metadata": {},
     "output_type": "display_data"
    },
    {
     "data": {
      "image/png": "[encoded data removed]",
      "text/plain": [
       "<Figure size 1200x1000 with 2 Axes>"
      ]
     },
     "metadata": {},
     "output_type": "display_data"
    }
   ],
   "source": [
    "# 📊 1. Summarize Class Balance\n",
    "print(\"🔍 Class distribution in full dataset (y):\")\n",
    "print(y.value_counts())\n",
    "print(\"\\nClass balance (percentages):\")\n",
    "print(y.value_counts(normalize=True).apply(lambda x: f\"{x:.2%}\"))\n",
    "\n",
    "# 📈 2. Visualize Fraud vs Non-Fraud\n",
    "import seaborn as sns\n",
    "import matplotlib.pyplot as plt\n",
    "\n",
    "sns.set(style=\"whitegrid\")\n",
    "plt.figure(figsize=(6,4))\n",
    "sns.countplot(x=y)\n",
    "plt.title(\"Fraud vs Not Fraud Distribution\")\n",
    "plt.xlabel(\"isFraud\")\n",
    "plt.ylabel(\"Count\")\n",
    "plt.show()\n",
    "\n",
    "# 🧊 3. Correlation Heatmap (on pre-scaled X, if available)\n",
    "plt.figure(figsize=(12,10))\n",
    "sns.heatmap(X.corr(), cmap=\"coolwarm\", annot=False, linewidths=0.5)\n",
    "plt.title(\"Feature Correlation Heatmap\")\n",
    "plt.show()\n"
   ]
  },
  {
   "cell_type": "code",
   "execution_count": null,
   "id": "a9813ddf-6c1c-4226-a4df-96e04c071f99",
   "metadata": {},
   "outputs": [],
   "source": []
  }
 ],
 "metadata": {
  "kernelspec": {
   "display_name": "Python 3 (ipykernel)",
   "language": "python",
   "name": "python3"
  },
  "language_info": {
   "codemirror_mode": {
    "name": "ipython",
    "version": 3
   },
   "file_extension": ".py",
   "mimetype": "text/x-python",
   "name": "python",
   "nbconvert_exporter": "python",
   "pygments_lexer": "ipython3",
   "version": "3.12.3"
  }
 },
 "nbformat": 4,
 "nbformat_minor": 5
}
